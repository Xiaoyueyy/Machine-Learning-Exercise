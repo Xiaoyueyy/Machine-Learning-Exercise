{
 "cells": [
  {
   "cell_type": "code",
   "execution_count": 76,
   "id": "9d1eecff-4a74-41b4-980d-385ef73271e5",
   "metadata": {
    "tags": []
   },
   "outputs": [
    {
     "ename": "SyntaxError",
     "evalue": "invalid syntax (1539572191.py, line 32)",
     "output_type": "error",
     "traceback": [
      "\u001b[0;36m  Cell \u001b[0;32mIn[76], line 32\u001b[0;36m\u001b[0m\n\u001b[0;31m    fit_lm =\u001b[0m\n\u001b[0m            ^\u001b[0m\n\u001b[0;31mSyntaxError\u001b[0m\u001b[0;31m:\u001b[0m invalid syntax\n"
     ]
    }
   ],
   "source": [
    "%matplotlib inline\n",
    "import numpy as np\n",
    "import pandas as pd\n",
    "from sklearn.neighbors import KNeighborsRegressor\n",
    "from sklearn.linear_model import LinearRegression\n",
    "\n",
    "ntrain = 50 # Training\n",
    "ntest = 500 # Test\n",
    "nrep = 100 # repeat 100 times\n",
    "p = 20\n",
    "puse = np.array([1, 2, 3, 4, 10, 20]) # number of predictors\n",
    "k = np.arange(1 ,10)\n",
    "\n",
    "sigma = 0.5\n",
    "\n",
    "Xtrain = np.random.uniform(-1, 1, [ntrain,p])\n",
    "Xtest = np.random.uniform(-1, 1, [ntest,p])\n",
    "y0 = np.sin(2 * Xtrain[:, 0]) # Only the first predictor is related to y\n",
    "ytest = np.sin(2 * Xtest[:, 0])\n",
    "\n",
    "out_knn = pd.DataFrame() # Output results\n",
    "out_lm = pd.DataFrame()\n",
    "\n",
    "for i in np.arange(0, len(puse)):\n",
    "    yhat_lm = np.zeros((ntest, nrep))\n",
    "    yhat_knn = np.zeros((ntest, nrep, len(k)))\n",
    "    \n",
    "    for l in arange(0, nrep):\n",
    "        y = y0 + np.random.normal(0, sigma, ntrain)\n",
    "    \n",
    "        ######### DO: fit linear regression using LinearRegression funciton, assign predicted value to yhat_lm[:, [l]] #########\n",
    "        fit_lm =\n",
    "        yhat_lm[:, [l]] =  # Predicted value\n",
    "      \n",
    "    \n",
    "        for j in np.arange(0, len(k)):\n",
    "            ######### DO: fit knn using KNeighborsRegressor funciton, assign predicted value to yhat_knn[:, l, j] #########\n",
    "            fit_knn =\n",
    "            yhat_knn[:, l, j] =   # Predicted value\n",
    "        \n",
    "        \n",
    "        print(i + 1, \"-th p, \", l + 1, \"-th repetition finished. \\n\")\n",
    "    \n",
    "  \n",
    "    ######### DO: compute bias and variance of linear regression #########\n",
    "    \n",
    "    # Compute mean of predicted values\n",
    "    ybar_lm = # E(f^hat)\n",
    "    \n",
    "    # Compute bias^2\n",
    "    biasSQ_lm = # E[ (f - E(f^hat))^2 ]\n",
    "    \n",
    "    # Compute variance\n",
    "    variance_lm = # E[ (E(f^hat) - f^hat)^2 ]\n",
    "    \n",
    "    # Compute total MSE\n",
    "    err_lm =\n",
    "  \n",
    "    out_lm = out_lm.append(pd.DataFrame({'error': [biasSQ_lm], 'component': ['squared-bias'], 'p': [f\"p = {puse[i]}\"]}))\n",
    "    out_lm = out_lm.append(pd.DataFrame({'error': [variance_lm], 'component': ['variance'], 'p': [f\"p = {puse[i]}\"]}))\n",
    "    out_lm = out_lm.append(pd.DataFrame({'error': [err_lm], 'component': ['MSE'], 'p': [f\"p = {puse[i]}\"]}))\n",
    "    ######### DO: compute bias and variance of knn regression #########\n",
    "    \n",
    "    # Compute mean of predicted values\n",
    "    ybar_knn = # E(f^hat)\n",
    "    \n",
    "    # Compute bias^2\n",
    "    biasSQ_knn = # E[ (f - E(f^hat))^2 ]\n",
    "    \n",
    "    # Compute variance\n",
    "    variance_knn = # E[ (E(f^hat) - f^hat)^2 ]\n",
    "    \n",
    "    # Compute total MSE\n",
    "    err_knn =\n",
    "    \n",
    "    out_knn = out_knn.append(pd.DataFrame({'error': biasSQ_knn, 'component': ['squared-bias'] * len(k), 'K': 1 / np.array(k),\n",
    "                                       'p': [f\"p = {puse[i]}\"] * len(k)}))\n",
    "    out_knn = out_knn.append(pd.DataFrame({'error': variance_knn, 'component': ['variance'] * len(k), 'K': 1 / np.array(k),\n",
    "                                       'p': [f\"p = {puse[i]}\"] * len(k)}))\n",
    "    out_knn = out_knn.append(pd.DataFrame({'error': err_knn, 'component': ['MSE'] * len(k), 'K': 1 / np.array(k),\n",
    "                                       'p': [f\"p = {puse[i]}\"] * len(k)}))"
   ]
  },
  {
   "cell_type": "code",
   "execution_count": null,
   "id": "0ee36082-a989-4b04-9af5-b48d8e57c348",
   "metadata": {},
   "outputs": [],
   "source": []
  }
 ],
 "metadata": {
  "kernelspec": {
   "display_name": "Python 3 (ipykernel)",
   "language": "python",
   "name": "python3"
  },
  "language_info": {
   "codemirror_mode": {
    "name": "ipython",
    "version": 3
   },
   "file_extension": ".py",
   "mimetype": "text/x-python",
   "name": "python",
   "nbconvert_exporter": "python",
   "pygments_lexer": "ipython3",
   "version": "3.9.7"
  },
  "toc": {
   "base_numbering": 1,
   "nav_menu": {},
   "number_sections": true,
   "sideBar": true,
   "skip_h1_title": false,
   "title_cell": "Table of Contents",
   "title_sidebar": "Contents",
   "toc_cell": false,
   "toc_position": {},
   "toc_section_display": true,
   "toc_window_display": false
  }
 },
 "nbformat": 4,
 "nbformat_minor": 5
}
